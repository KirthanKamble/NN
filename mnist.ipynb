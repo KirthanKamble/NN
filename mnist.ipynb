{
 "cells": [
  {
   "cell_type": "code",
   "execution_count": 2,
   "metadata": {},
   "outputs": [],
   "source": [
    "import numpy as np\n",
    "from keras.datasets import mnist\n",
    "from keras.utils import to_categorical"
   ]
  },
  {
   "cell_type": "code",
   "execution_count": 9,
   "metadata": {},
   "outputs": [],
   "source": [
    "import sys\n",
    "import os\n",
    "\n",
    "sys.path.append(os.path.abspath(os.path.join('..')))"
   ]
  },
  {
   "cell_type": "code",
   "execution_count": 16,
   "metadata": {},
   "outputs": [],
   "source": [
    "from NN.Activations.Sigmoid import Sigmoid\n",
    "from NN.LossFunctions.BinaryCrossEntropy import BinaryCrossEntropy\n",
    "from NN.Layers.Dense import Dense\n",
    "from NN.Networks.Sequential import Sequential"
   ]
  },
  {
   "cell_type": "code",
   "execution_count": 14,
   "metadata": {},
   "outputs": [],
   "source": [
    "def preprocess_data(x, y, limit):\n",
    "    # reshape and normalize input data\n",
    "    x = x.reshape(x.shape[0], 28 * 28, 1)\n",
    "    x = x.astype(\"float32\") / 255\n",
    "    # encode output which is a number in range [0,9] into a vector of size 10\n",
    "    # e.g. number 3 will become [0, 0, 0, 1, 0, 0, 0, 0, 0, 0]\n",
    "    y = to_categorical(y)\n",
    "    y = y.reshape(y.shape[0], 10, 1)\n",
    "    return x[:limit], y[:limit]"
   ]
  },
  {
   "cell_type": "code",
   "execution_count": 15,
   "metadata": {},
   "outputs": [
    {
     "name": "stdout",
     "output_type": "stream",
     "text": [
      "Downloading data from https://storage.googleapis.com/tensorflow/tf-keras-datasets/mnist.npz\n",
      "\u001b[1m11490434/11490434\u001b[0m \u001b[32m━━━━━━━━━━━━━━━━━━━━\u001b[0m\u001b[37m\u001b[0m \u001b[1m2s\u001b[0m 0us/step\n"
     ]
    }
   ],
   "source": [
    "# load MNIST from server\n",
    "(x_train, y_train), (x_test, y_test) = mnist.load_data()\n",
    "x_train, y_train = preprocess_data(x_train, y_train, 1000)\n",
    "x_test, y_test = preprocess_data(x_test, y_test, 20)"
   ]
  },
  {
   "cell_type": "code",
   "execution_count": 17,
   "metadata": {},
   "outputs": [],
   "source": [
    "network = [\n",
    "    Dense(28 * 28, 40),\n",
    "    Sigmoid(),\n",
    "    Dense(40, 10),\n",
    "    Sigmoid()\n",
    "]\n",
    "\n",
    "mnist_model = Sequential(network, loss_fn=BinaryCrossEntropy())"
   ]
  },
  {
   "cell_type": "code",
   "execution_count": 18,
   "metadata": {},
   "outputs": [
    {
     "name": "stderr",
     "output_type": "stream",
     "text": [
      "c:\\Users\\Kirthan\\OneDrive - Indian Institute of Technology Bombay\\Documents\\Code tuts\\Python\\NN\\LossFunctions\\BinaryCrossEntropy.py:6: RuntimeWarning: divide by zero encountered in log\n",
      "  return -np.mean(y_true * np.log(y_pred) + (1 - y_true) * np.log(1 - y_true))\n",
      "c:\\Users\\Kirthan\\OneDrive - Indian Institute of Technology Bombay\\Documents\\Code tuts\\Python\\NN\\LossFunctions\\BinaryCrossEntropy.py:6: RuntimeWarning: invalid value encountered in multiply\n",
      "  return -np.mean(y_true * np.log(y_pred) + (1 - y_true) * np.log(1 - y_true))\n"
     ]
    },
    {
     "name": "stdout",
     "output_type": "stream",
     "text": [
      "Completed 1/100 epoch, loss = nan\n",
      "Completed 2/100 epoch, loss = nan\n",
      "Completed 3/100 epoch, loss = nan\n",
      "Completed 4/100 epoch, loss = nan\n",
      "Completed 5/100 epoch, loss = nan\n",
      "Completed 6/100 epoch, loss = nan\n",
      "Completed 7/100 epoch, loss = nan\n",
      "Completed 8/100 epoch, loss = nan\n",
      "Completed 9/100 epoch, loss = nan\n",
      "Completed 10/100 epoch, loss = nan\n",
      "Completed 11/100 epoch, loss = nan\n",
      "Completed 12/100 epoch, loss = nan\n",
      "Completed 13/100 epoch, loss = nan\n",
      "Completed 14/100 epoch, loss = nan\n",
      "Completed 15/100 epoch, loss = nan\n",
      "Completed 16/100 epoch, loss = nan\n",
      "Completed 17/100 epoch, loss = nan\n",
      "Completed 18/100 epoch, loss = nan\n",
      "Completed 19/100 epoch, loss = nan\n",
      "Completed 20/100 epoch, loss = nan\n",
      "Completed 21/100 epoch, loss = nan\n",
      "Completed 22/100 epoch, loss = nan\n",
      "Completed 23/100 epoch, loss = nan\n",
      "Completed 24/100 epoch, loss = nan\n",
      "Completed 25/100 epoch, loss = nan\n",
      "Completed 26/100 epoch, loss = nan\n",
      "Completed 27/100 epoch, loss = nan\n",
      "Completed 28/100 epoch, loss = nan\n",
      "Completed 29/100 epoch, loss = nan\n",
      "Completed 30/100 epoch, loss = nan\n",
      "Completed 31/100 epoch, loss = nan\n",
      "Completed 32/100 epoch, loss = nan\n",
      "Completed 33/100 epoch, loss = nan\n",
      "Completed 34/100 epoch, loss = nan\n",
      "Completed 35/100 epoch, loss = nan\n",
      "Completed 36/100 epoch, loss = nan\n",
      "Completed 37/100 epoch, loss = nan\n",
      "Completed 38/100 epoch, loss = nan\n",
      "Completed 39/100 epoch, loss = nan\n",
      "Completed 40/100 epoch, loss = nan\n",
      "Completed 41/100 epoch, loss = nan\n",
      "Completed 42/100 epoch, loss = nan\n",
      "Completed 43/100 epoch, loss = nan\n",
      "Completed 44/100 epoch, loss = nan\n",
      "Completed 45/100 epoch, loss = nan\n",
      "Completed 46/100 epoch, loss = nan\n",
      "Completed 47/100 epoch, loss = nan\n",
      "Completed 48/100 epoch, loss = nan\n",
      "Completed 49/100 epoch, loss = nan\n",
      "Completed 50/100 epoch, loss = nan\n",
      "Completed 51/100 epoch, loss = nan\n",
      "Completed 52/100 epoch, loss = nan\n",
      "Completed 53/100 epoch, loss = nan\n",
      "Completed 54/100 epoch, loss = nan\n",
      "Completed 55/100 epoch, loss = nan\n",
      "Completed 56/100 epoch, loss = nan\n",
      "Completed 57/100 epoch, loss = nan\n",
      "Completed 58/100 epoch, loss = nan\n",
      "Completed 59/100 epoch, loss = nan\n",
      "Completed 60/100 epoch, loss = nan\n",
      "Completed 61/100 epoch, loss = nan\n",
      "Completed 62/100 epoch, loss = nan\n",
      "Completed 63/100 epoch, loss = nan\n",
      "Completed 64/100 epoch, loss = nan\n",
      "Completed 65/100 epoch, loss = nan\n",
      "Completed 66/100 epoch, loss = nan\n",
      "Completed 67/100 epoch, loss = nan\n",
      "Completed 68/100 epoch, loss = nan\n",
      "Completed 69/100 epoch, loss = nan\n",
      "Completed 70/100 epoch, loss = nan\n",
      "Completed 71/100 epoch, loss = nan\n",
      "Completed 72/100 epoch, loss = nan\n",
      "Completed 73/100 epoch, loss = nan\n",
      "Completed 74/100 epoch, loss = nan\n",
      "Completed 75/100 epoch, loss = nan\n",
      "Completed 76/100 epoch, loss = nan\n",
      "Completed 77/100 epoch, loss = nan\n",
      "Completed 78/100 epoch, loss = nan\n",
      "Completed 79/100 epoch, loss = nan\n",
      "Completed 80/100 epoch, loss = nan\n",
      "Completed 81/100 epoch, loss = nan\n",
      "Completed 82/100 epoch, loss = nan\n",
      "Completed 83/100 epoch, loss = nan\n",
      "Completed 84/100 epoch, loss = nan\n",
      "Completed 85/100 epoch, loss = nan\n",
      "Completed 86/100 epoch, loss = nan\n",
      "Completed 87/100 epoch, loss = nan\n",
      "Completed 88/100 epoch, loss = nan\n",
      "Completed 89/100 epoch, loss = nan\n",
      "Completed 90/100 epoch, loss = nan\n",
      "Completed 91/100 epoch, loss = nan\n",
      "Completed 92/100 epoch, loss = nan\n",
      "Completed 93/100 epoch, loss = nan\n",
      "Completed 94/100 epoch, loss = nan\n",
      "Completed 95/100 epoch, loss = nan\n",
      "Completed 96/100 epoch, loss = nan\n",
      "Completed 97/100 epoch, loss = nan\n",
      "Completed 98/100 epoch, loss = nan\n",
      "Completed 99/100 epoch, loss = nan\n",
      "Completed 100/100 epoch, loss = nan\n"
     ]
    }
   ],
   "source": [
    "mnist_model.train(x_train, y_test, epochs=100, lr=0.1)"
   ]
  }
 ],
 "metadata": {
  "kernelspec": {
   "display_name": "Python 3",
   "language": "python",
   "name": "python3"
  },
  "language_info": {
   "codemirror_mode": {
    "name": "ipython",
    "version": 3
   },
   "file_extension": ".py",
   "mimetype": "text/x-python",
   "name": "python",
   "nbconvert_exporter": "python",
   "pygments_lexer": "ipython3",
   "version": "3.12.2"
  }
 },
 "nbformat": 4,
 "nbformat_minor": 2
}
