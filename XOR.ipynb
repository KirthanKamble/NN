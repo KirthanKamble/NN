{
 "cells": [
  {
   "cell_type": "code",
   "execution_count": 5,
   "metadata": {},
   "outputs": [],
   "source": [
    "import sys\n",
    "import os \n",
    "pwd = os.getcwd()\n",
    "sys.path.append(pwd)"
   ]
  },
  {
   "cell_type": "code",
   "execution_count": 7,
   "metadata": {},
   "outputs": [
    {
     "name": "stdout",
     "output_type": "stream",
     "text": [
      "c:\\Users\\Kirthan\\AppData\\Local\\Programs\\Python\\Python312\\python312.zip\n",
      "c:\\Users\\Kirthan\\AppData\\Local\\Programs\\Python\\Python312\\DLLs\n",
      "c:\\Users\\Kirthan\\AppData\\Local\\Programs\\Python\\Python312\\Lib\n",
      "c:\\Users\\Kirthan\\AppData\\Local\\Programs\\Python\\Python312\n",
      "\n",
      "C:\\Users\\Kirthan\\AppData\\Roaming\\Python\\Python312\\site-packages\n",
      "C:\\Users\\Kirthan\\AppData\\Roaming\\Python\\Python312\\site-packages\\win32\n",
      "C:\\Users\\Kirthan\\AppData\\Roaming\\Python\\Python312\\site-packages\\win32\\lib\n",
      "C:\\Users\\Kirthan\\AppData\\Roaming\\Python\\Python312\\site-packages\\Pythonwin\n",
      "c:\\Users\\Kirthan\\AppData\\Local\\Programs\\Python\\Python312\\Lib\\site-packages\n",
      "c:\\Users\\Kirthan\\OneDrive - Indian Institute of Technology Bombay\\Desktop\\Code tuts\\Python\\sequential networks\n"
     ]
    }
   ],
   "source": [
    "for p in sys.path:\n",
    "    print(p)"
   ]
  },
  {
   "cell_type": "code",
   "execution_count": 6,
   "metadata": {},
   "outputs": [
    {
     "ename": "ModuleNotFoundError",
     "evalue": "No module named 'layer'",
     "output_type": "error",
     "traceback": [
      "\u001b[1;31m---------------------------------------------------------------------------\u001b[0m",
      "\u001b[1;31mModuleNotFoundError\u001b[0m                       Traceback (most recent call last)",
      "Cell \u001b[1;32mIn[6], line 1\u001b[0m\n\u001b[1;32m----> 1\u001b[0m \u001b[38;5;28;01mfrom\u001b[39;00m \u001b[38;5;21;01mLayers\u001b[39;00m \u001b[38;5;28;01mimport\u001b[39;00m Dense\n",
      "File \u001b[1;32mc:\\Users\\Kirthan\\OneDrive - Indian Institute of Technology Bombay\\Desktop\\Code tuts\\Python\\sequential networks\\Layers\\Dense.py:1\u001b[0m\n\u001b[1;32m----> 1\u001b[0m \u001b[38;5;28;01mfrom\u001b[39;00m \u001b[38;5;21;01mlayer\u001b[39;00m \u001b[38;5;28;01mimport\u001b[39;00m Layer\n\u001b[0;32m      2\u001b[0m \u001b[38;5;28;01mfrom\u001b[39;00m \u001b[38;5;21;01mnumpy\u001b[39;00m \u001b[38;5;28;01mimport\u001b[39;00m dot\n\u001b[0;32m      3\u001b[0m \u001b[38;5;28;01mfrom\u001b[39;00m \u001b[38;5;21;01mnumpy\u001b[39;00m\u001b[38;5;21;01m.\u001b[39;00m\u001b[38;5;21;01mrandom\u001b[39;00m \u001b[38;5;28;01mimport\u001b[39;00m randn\n",
      "\u001b[1;31mModuleNotFoundError\u001b[0m: No module named 'layer'"
     ]
    }
   ],
   "source": [
    "from Layers import Dense"
   ]
  },
  {
   "cell_type": "code",
   "execution_count": null,
   "metadata": {},
   "outputs": [],
   "source": [
    "sys.path.remove(pwd)"
   ]
  }
 ],
 "metadata": {
  "kernelspec": {
   "display_name": "Python 3",
   "language": "python",
   "name": "python3"
  },
  "language_info": {
   "codemirror_mode": {
    "name": "ipython",
    "version": 3
   },
   "file_extension": ".py",
   "mimetype": "text/x-python",
   "name": "python",
   "nbconvert_exporter": "python",
   "pygments_lexer": "ipython3",
   "version": "3.12.2"
  }
 },
 "nbformat": 4,
 "nbformat_minor": 2
}
