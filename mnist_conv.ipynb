{
 "cells": [
  {
   "cell_type": "code",
   "execution_count": 1,
   "metadata": {},
   "outputs": [],
   "source": [
    "import numpy as np\n",
    "from keras.datasets import mnist\n",
    "from keras.utils import to_categorical"
   ]
  },
  {
   "cell_type": "code",
   "execution_count": 2,
   "metadata": {},
   "outputs": [],
   "source": [
    "import sys\n",
    "import os\n",
    "\n",
    "sys.path.append(os.path.abspath(os.path.join('..')))"
   ]
  },
  {
   "cell_type": "code",
   "execution_count": 3,
   "metadata": {},
   "outputs": [],
   "source": [
    "def preprocess_data(x, y, limit):\n",
    "    zero_index = np.where(y == 0)[0][:limit]\n",
    "    one_index = np.where(y == 1)[0][:limit]\n",
    "    all_indices = np.hstack((zero_index, one_index))\n",
    "    all_indices = np.random.permutation(all_indices)\n",
    "    x, y = x[all_indices], y[all_indices]\n",
    "    x = x.reshape(len(x), 1, 28, 28)\n",
    "    x = x.astype(\"float32\") / 255\n",
    "    y = to_categorical(y)\n",
    "    y = y.reshape(len(y), 2, 1)\n",
    "    return x, y"
   ]
  },
  {
   "cell_type": "code",
   "execution_count": 12,
   "metadata": {},
   "outputs": [],
   "source": [
    "(x_train, y_train), (x_test, y_test) = mnist.load_data()\n",
    "x_train, y_train = preprocess_data(x_train, y_train, 100)\n",
    "x_test, y_test = preprocess_data(x_test, y_test, 100)"
   ]
  },
  {
   "cell_type": "code",
   "execution_count": 13,
   "metadata": {},
   "outputs": [],
   "source": [
    "from NN.Layers.Convolutional2D import Convolutional2D\n",
    "from NN.Layers.Dense import Dense\n",
    "from NN.Layers.Reshape import Reshape\n",
    "from NN.Activations.Sigmoid import Sigmoid\n",
    "from NN.LossFunctions.BinaryCrossEntropy import BinaryCrossEntropy"
   ]
  },
  {
   "cell_type": "code",
   "execution_count": 14,
   "metadata": {},
   "outputs": [],
   "source": [
    "from NN.Networks.Sequential import Sequential\n",
    "\n",
    "network = [\n",
    "    Convolutional2D((1, 28, 28), (3, 3), 5),\n",
    "    Sigmoid(),\n",
    "    Reshape((5, 26, 26), (5 * 26 * 26, 1)),\n",
    "    Dense(5 * 26 * 26, 100),\n",
    "    Sigmoid(),\n",
    "    Dense(100, 2),\n",
    "    Sigmoid()\n",
    "]\n",
    "\n",
    "mnist_model = Sequential(network, loss_fn=BinaryCrossEntropy())"
   ]
  },
  {
   "cell_type": "code",
   "execution_count": 15,
   "metadata": {},
   "outputs": [
    {
     "name": "stdout",
     "output_type": "stream",
     "text": [
      "Completed 1/20 epoch, loss = 56.20190583262571\n",
      "Completed 2/20 epoch, loss = 19.431425138599234\n",
      "Completed 3/20 epoch, loss = 8.819923716827908\n",
      "Completed 4/20 epoch, loss = 9.520009633210218\n",
      "Completed 5/20 epoch, loss = 6.014591225402548\n",
      "Completed 6/20 epoch, loss = 4.30023727413566\n",
      "Completed 7/20 epoch, loss = 3.901382327253637\n",
      "Completed 8/20 epoch, loss = 2.7122277893476854\n",
      "Completed 9/20 epoch, loss = 2.112527542009598\n",
      "Completed 10/20 epoch, loss = 1.8300103383720796\n",
      "Completed 11/20 epoch, loss = 1.494546583052849\n",
      "Completed 12/20 epoch, loss = 1.234311094693827\n",
      "Completed 13/20 epoch, loss = 1.1245373658976723\n",
      "Completed 14/20 epoch, loss = 1.02780329986419\n",
      "Completed 15/20 epoch, loss = 0.8647586642743438\n",
      "Completed 16/20 epoch, loss = 0.7563528161127916\n",
      "Completed 17/20 epoch, loss = 0.6898117269607837\n",
      "Completed 18/20 epoch, loss = 0.6395617615258232\n",
      "Completed 19/20 epoch, loss = 0.5978169604851886\n",
      "Completed 20/20 epoch, loss = 0.5620718449193584\n"
     ]
    }
   ],
   "source": [
    "mnist_model.train(x_train, y_train, epochs=20, lr=0.1)"
   ]
  },
  {
   "cell_type": "code",
   "execution_count": 16,
   "metadata": {},
   "outputs": [
    {
     "name": "stdout",
     "output_type": "stream",
     "text": [
      "accuracy = 101/200\n"
     ]
    }
   ],
   "source": [
    "correct = 0\n",
    "\n",
    "for x, y in zip(x_test, y_test):\n",
    "    output = mnist_model.predict(x)\n",
    "    if np.argmax(output) == np.argmax(y_test):\n",
    "        correct += 1\n",
    "\n",
    "print(f\"accuracy = {correct}/{len(y_test)}\")"
   ]
  }
 ],
 "metadata": {
  "kernelspec": {
   "display_name": "Python 3",
   "language": "python",
   "name": "python3"
  },
  "language_info": {
   "codemirror_mode": {
    "name": "ipython",
    "version": 3
   },
   "file_extension": ".py",
   "mimetype": "text/x-python",
   "name": "python",
   "nbconvert_exporter": "python",
   "pygments_lexer": "ipython3",
   "version": "3.12.2"
  }
 },
 "nbformat": 4,
 "nbformat_minor": 2
}
